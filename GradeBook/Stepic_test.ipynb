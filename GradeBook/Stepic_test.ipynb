{
 "cells": [
  {
   "cell_type": "code",
   "execution_count": 1,
   "metadata": {},
   "outputs": [],
   "source": [
    "import pandas as pd\n",
    "from classes import *\n",
    "from config import token"
   ]
  },
  {
   "cell_type": "code",
   "execution_count": 2,
   "metadata": {},
   "outputs": [
    {
     "data": {
      "text/html": [
       "<div>\n",
       "<style scoped>\n",
       "    .dataframe tbody tr th:only-of-type {\n",
       "        vertical-align: middle;\n",
       "    }\n",
       "\n",
       "    .dataframe tbody tr th {\n",
       "        vertical-align: top;\n",
       "    }\n",
       "\n",
       "    .dataframe thead th {\n",
       "        text-align: right;\n",
       "    }\n",
       "</style>\n",
       "<table border=\"1\" class=\"dataframe\">\n",
       "  <thead>\n",
       "    <tr style=\"text-align: right;\">\n",
       "      <th></th>\n",
       "      <th>name</th>\n",
       "      <th>value</th>\n",
       "    </tr>\n",
       "  </thead>\n",
       "  <tbody>\n",
       "    <tr>\n",
       "      <th>0</th>\n",
       "      <td>class id:</td>\n",
       "      <td>None</td>\n",
       "    </tr>\n",
       "    <tr>\n",
       "      <th>1</th>\n",
       "      <td>id course:</td>\n",
       "      <td>None</td>\n",
       "    </tr>\n",
       "    <tr>\n",
       "      <th>2</th>\n",
       "      <td>title:</td>\n",
       "      <td>None</td>\n",
       "    </tr>\n",
       "    <tr>\n",
       "      <th>3</th>\n",
       "      <td>units id:</td>\n",
       "      <td>None</td>\n",
       "    </tr>\n",
       "    <tr>\n",
       "      <th>4</th>\n",
       "      <td>owner id:</td>\n",
       "      <td>None</td>\n",
       "    </tr>\n",
       "  </tbody>\n",
       "</table>\n",
       "</div>"
      ],
      "text/plain": [
       "         name value\n",
       "0   class id:  None\n",
       "1  id course:  None\n",
       "2      title:  None\n",
       "3   units id:  None\n",
       "4   owner id:  None"
      ]
     },
     "execution_count": 2,
     "metadata": {},
     "output_type": "execute_result"
    }
   ],
   "source": [
    "url = 'https://stepik.org/api/classes/62475'\n",
    "\n",
    "#  Тесты для класса\n",
    "stepic_class = Class(url, token)\n",
    "\n",
    "df = pd.DataFrame([['class id:', stepic_class.get_class_id()],\n",
    "                  ['id course:', stepic_class.get_id_course()],\n",
    "                  ['title:', stepic_class.get_title()],\n",
    "                  ['units id:', stepic_class.get_students_count()],\n",
    "                  ['owner id:', stepic_class.get_owner()]],\n",
    "                  columns = ['name', 'value'])\n",
    "df"
   ]
  },
  {
   "cell_type": "code",
   "execution_count": 3,
   "metadata": {},
   "outputs": [
    {
     "ename": "TypeError",
     "evalue": "can only concatenate list (not \"NoneType\") to list",
     "output_type": "error",
     "traceback": [
      "\u001b[31m---------------------------------------------------------------------------\u001b[39m",
      "\u001b[31mTypeError\u001b[39m                                 Traceback (most recent call last)",
      "\u001b[36mCell\u001b[39m\u001b[36m \u001b[39m\u001b[32mIn[3]\u001b[39m\u001b[32m, line 6\u001b[39m\n\u001b[32m      3\u001b[39m \u001b[38;5;66;03m#  Тесты для курса\u001b[39;00m\n\u001b[32m      4\u001b[39m stepic_course = Course(stepic_class.get_id_course(), token)\n\u001b[32m----> \u001b[39m\u001b[32m6\u001b[39m df = pd.DataFrame(\u001b[43m[\u001b[49m\u001b[43mstepic_course\u001b[49m\u001b[43m.\u001b[49m\u001b[43mget_title\u001b[49m\u001b[43m(\u001b[49m\u001b[43m)\u001b[49m\u001b[43m]\u001b[49m\u001b[43m \u001b[49m\u001b[43m+\u001b[49m\u001b[43m \u001b[49m\u001b[43mstepic_course\u001b[49m\u001b[43m.\u001b[49m\u001b[43mget_sections\u001b[49m\u001b[43m(\u001b[49m\u001b[43m)\u001b[49m, columns = [stepic_class.get_id_course()])\n\u001b[32m      7\u001b[39m df\n",
      "\u001b[31mTypeError\u001b[39m: can only concatenate list (not \"NoneType\") to list"
     ]
    }
   ],
   "source": [
    "url = 'https://stepik.org/api/classes/62475'\n",
    "\n",
    "#  Тесты для курса\n",
    "stepic_course = Course(stepic_class.get_id_course(), token)\n",
    "\n",
    "df = pd.DataFrame([stepic_course.get_title()] + stepic_course.get_sections(), columns = [stepic_class.get_id_course()])\n",
    "df"
   ]
  },
  {
   "cell_type": "code",
   "execution_count": 4,
   "metadata": {},
   "outputs": [
    {
     "name": "stdout",
     "output_type": "stream",
     "text": [
      "units id: [1151729, 1151730, 1151731, 1151953, 1151954, 1151955, 1151956, 1151957, 1156657, 1153761, 1166930, 1167027, 1171431, 1171594, 1171432, 1172522, 1166931]\n"
     ]
    }
   ],
   "source": [
    "url = 'https://stepik.org/api/classes/62475'\n",
    "\n",
    "#  Тесты для модулей\n",
    "stepic_module = Module(token, modules=['365061', '365062', '365713'])\n",
    "print(f'units id: {stepic_module.get_units_from_section()}')\n",
    "# print(f'lessons id: {stepic_module.get_lessons_from_section()}')\n",
    "# print(f'module title: {stepic_module.get_module_title()}')"
   ]
  },
  {
   "cell_type": "code",
   "execution_count": null,
   "metadata": {},
   "outputs": [
    {
     "data": {
      "text/html": [
       "<div>\n",
       "<style scoped>\n",
       "    .dataframe tbody tr th:only-of-type {\n",
       "        vertical-align: middle;\n",
       "    }\n",
       "\n",
       "    .dataframe tbody tr th {\n",
       "        vertical-align: top;\n",
       "    }\n",
       "\n",
       "    .dataframe thead th {\n",
       "        text-align: right;\n",
       "    }\n",
       "</style>\n",
       "<table border=\"1\" class=\"dataframe\">\n",
       "  <thead>\n",
       "    <tr style=\"text-align: right;\">\n",
       "      <th></th>\n",
       "      <th>steps_in_lesson</th>\n",
       "    </tr>\n",
       "  </thead>\n",
       "  <tbody>\n",
       "  </tbody>\n",
       "</table>\n",
       "</div>"
      ],
      "text/plain": [
       "Empty DataFrame\n",
       "Columns: [steps_in_lesson]\n",
       "Index: []"
      ]
     },
     "execution_count": 4,
     "metadata": {},
     "output_type": "execute_result"
    }
   ],
   "source": [
    "#  Тесты для уроков\n",
    "stepic_lesson = Lesson(token, lesson='1140055')\n",
    "\n",
    "df = pd.DataFrame(stepic_lesson.get_steps_in_lesson(),\n",
    "                  columns = ['steps_in_lesson'])\n",
    "df"
   ]
  },
  {
   "cell_type": "code",
   "execution_count": null,
   "metadata": {},
   "outputs": [
    {
     "name": "stdout",
     "output_type": "stream",
     "text": [
      "steps_in_lesson: text\n"
     ]
    }
   ],
   "source": [
    "url = 'https://stepik.org/api/classes/62475'\n",
    "\n",
    "#  Тесты для шагов\n",
    "stepic_step = Step(token, step='4728621')\n",
    "print(f'steps_in_lesson: {stepic_step.get_name_in_step()}')\n"
   ]
  }
 ],
 "metadata": {
  "kernelspec": {
   "display_name": "Python 3",
   "language": "python",
   "name": "python3"
  },
  "language_info": {
   "codemirror_mode": {
    "name": "ipython",
    "version": 3
   },
   "file_extension": ".py",
   "mimetype": "text/x-python",
   "name": "python",
   "nbconvert_exporter": "python",
   "pygments_lexer": "ipython3",
   "version": "3.13.2"
  },
  "orig_nbformat": 4
 },
 "nbformat": 4,
 "nbformat_minor": 2
}
