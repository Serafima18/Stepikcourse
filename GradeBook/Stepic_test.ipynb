{
 "cells": [
  {
   "cell_type": "code",
   "execution_count": 1,
   "metadata": {},
   "outputs": [],
   "source": [
    "import pandas as pd\n",
    "from classes import *\n",
    "from config import token"
   ]
  },
  {
   "cell_type": "code",
   "execution_count": 2,
   "metadata": {},
   "outputs": [
    {
     "name": "stdout",
     "output_type": "stream",
     "text": [
      "class id: 62475\n",
      "id course: 188376\n",
      "owner id: 40761646\n",
      "title: 2024_3415_Рязань\n",
      "units id: 12\n"
     ]
    }
   ],
   "source": [
    "url = 'https://stepik.org/api/classes/62475'\n",
    "\n",
    "#  Тесты для класса\n",
    "stepic_class = Class(url, token)\n",
    "print(f'class id: {stepic_class.get_class_id()}')\n",
    "print(f'id course: {stepic_class.get_id_course()}')\n",
    "print(f'owner id: {stepic_class.get_owner()}')\n",
    "print(f'title: {stepic_class.get_title()}')\n",
    "print(f'units id: {stepic_class.get_students_count()}')\n",
    "\n",
    "\n"
   ]
  },
  {
   "cell_type": "code",
   "execution_count": 3,
   "metadata": {},
   "outputs": [
    {
     "data": {
      "text/html": [
       "<div>\n",
       "<style scoped>\n",
       "    .dataframe tbody tr th:only-of-type {\n",
       "        vertical-align: middle;\n",
       "    }\n",
       "\n",
       "    .dataframe tbody tr th {\n",
       "        vertical-align: top;\n",
       "    }\n",
       "\n",
       "    .dataframe thead th {\n",
       "        text-align: right;\n",
       "    }\n",
       "</style>\n",
       "<table border=\"1\" class=\"dataframe\">\n",
       "  <thead>\n",
       "    <tr style=\"text-align: right;\">\n",
       "      <th></th>\n",
       "      <th>name</th>\n",
       "      <th>value</th>\n",
       "    </tr>\n",
       "  </thead>\n",
       "  <tbody>\n",
       "    <tr>\n",
       "      <th>0</th>\n",
       "      <td>class id:</td>\n",
       "      <td>62475</td>\n",
       "    </tr>\n",
       "    <tr>\n",
       "      <th>1</th>\n",
       "      <td>id course:</td>\n",
       "      <td>188376</td>\n",
       "    </tr>\n",
       "    <tr>\n",
       "      <th>2</th>\n",
       "      <td>title:</td>\n",
       "      <td>2024_3415_Рязань</td>\n",
       "    </tr>\n",
       "    <tr>\n",
       "      <th>3</th>\n",
       "      <td>units id:</td>\n",
       "      <td>12</td>\n",
       "    </tr>\n",
       "    <tr>\n",
       "      <th>4</th>\n",
       "      <td>owner id:</td>\n",
       "      <td>40761646</td>\n",
       "    </tr>\n",
       "  </tbody>\n",
       "</table>\n",
       "</div>"
      ],
      "text/plain": [
       "         name             value\n",
       "0   class id:             62475\n",
       "1  id course:            188376\n",
       "2      title:  2024_3415_Рязань\n",
       "3   units id:                12\n",
       "4   owner id:          40761646"
      ]
     },
     "execution_count": 3,
     "metadata": {},
     "output_type": "execute_result"
    }
   ],
   "source": [
    "df = pd.DataFrame([['class id:', stepic_class.get_class_id()],\n",
    "                  ['id course:', stepic_class.get_id_course()],\n",
    "                  ['title:', stepic_class.get_title()],\n",
    "                  ['units id:', stepic_class.get_students_count()],\n",
    "                  ['owner id:', stepic_class.get_owner()]],\n",
    "                  columns = ['name', 'value'])\n",
    "df"
   ]
  },
  {
   "cell_type": "code",
   "execution_count": 4,
   "metadata": {},
   "outputs": [
    {
     "name": "stdout",
     "output_type": "stream",
     "text": [
      "sections: [365061, 365062, 365713, 371384, 389712, 371385, 371386, 371387, 371388, 371389, 388364]\n",
      "title: Простой python: том 1, основы\n"
     ]
    }
   ],
   "source": [
    "url = 'https://stepik.org/api/classes/62475'\n",
    "\n",
    "#  Тесты для курса\n",
    "stepic_course = Course(stepic_class.get_id_course(), token)\n",
    "print(f'sections: {stepic_course.get_sections()}')\n",
    "print(f'title: {stepic_course.get_title()}')\n",
    "\n"
   ]
  },
  {
   "cell_type": "code",
   "execution_count": 5,
   "metadata": {},
   "outputs": [
    {
     "data": {
      "text/html": [
       "<div>\n",
       "<style scoped>\n",
       "    .dataframe tbody tr th:only-of-type {\n",
       "        vertical-align: middle;\n",
       "    }\n",
       "\n",
       "    .dataframe tbody tr th {\n",
       "        vertical-align: top;\n",
       "    }\n",
       "\n",
       "    .dataframe thead th {\n",
       "        text-align: right;\n",
       "    }\n",
       "</style>\n",
       "<table border=\"1\" class=\"dataframe\">\n",
       "  <thead>\n",
       "    <tr style=\"text-align: right;\">\n",
       "      <th></th>\n",
       "      <th>188376</th>\n",
       "    </tr>\n",
       "  </thead>\n",
       "  <tbody>\n",
       "    <tr>\n",
       "      <th>0</th>\n",
       "      <td>Простой python: том 1, основы</td>\n",
       "    </tr>\n",
       "    <tr>\n",
       "      <th>1</th>\n",
       "      <td>365061</td>\n",
       "    </tr>\n",
       "    <tr>\n",
       "      <th>2</th>\n",
       "      <td>365062</td>\n",
       "    </tr>\n",
       "    <tr>\n",
       "      <th>3</th>\n",
       "      <td>365713</td>\n",
       "    </tr>\n",
       "    <tr>\n",
       "      <th>4</th>\n",
       "      <td>371384</td>\n",
       "    </tr>\n",
       "    <tr>\n",
       "      <th>5</th>\n",
       "      <td>389712</td>\n",
       "    </tr>\n",
       "    <tr>\n",
       "      <th>6</th>\n",
       "      <td>371385</td>\n",
       "    </tr>\n",
       "    <tr>\n",
       "      <th>7</th>\n",
       "      <td>371386</td>\n",
       "    </tr>\n",
       "    <tr>\n",
       "      <th>8</th>\n",
       "      <td>371387</td>\n",
       "    </tr>\n",
       "    <tr>\n",
       "      <th>9</th>\n",
       "      <td>371388</td>\n",
       "    </tr>\n",
       "    <tr>\n",
       "      <th>10</th>\n",
       "      <td>371389</td>\n",
       "    </tr>\n",
       "    <tr>\n",
       "      <th>11</th>\n",
       "      <td>388364</td>\n",
       "    </tr>\n",
       "  </tbody>\n",
       "</table>\n",
       "</div>"
      ],
      "text/plain": [
       "                           188376\n",
       "0   Простой python: том 1, основы\n",
       "1                          365061\n",
       "2                          365062\n",
       "3                          365713\n",
       "4                          371384\n",
       "5                          389712\n",
       "6                          371385\n",
       "7                          371386\n",
       "8                          371387\n",
       "9                          371388\n",
       "10                         371389\n",
       "11                         388364"
      ]
     },
     "execution_count": 5,
     "metadata": {},
     "output_type": "execute_result"
    }
   ],
   "source": [
    "df = pd.DataFrame([stepic_course.get_title()] + stepic_course.get_sections(), columns = [stepic_class.get_id_course()])\n",
    "df"
   ]
  },
  {
   "cell_type": "code",
   "execution_count": 6,
   "metadata": {},
   "outputs": [
    {
     "name": "stdout",
     "output_type": "stream",
     "text": [
      "units id: [1151729, 1151730]\n",
      "lessons id: [1140054, 1140055]\n",
      "module title: Введение\n"
     ]
    }
   ],
   "source": [
    "url = 'https://stepik.org/api/classes/62475'\n",
    "\n",
    "#  Тесты для модулей\n",
    "stepic_module = Module(token)\n",
    "print(f'units id: {stepic_module.get_units_from_section('365061')}')\n",
    "print(f'lessons id: {stepic_module.get_lessons_from_section('365061')}')\n",
    "print(f'module title: {stepic_module.get_module_title('365061')}')"
   ]
  },
  {
   "cell_type": "code",
   "execution_count": 7,
   "metadata": {},
   "outputs": [
    {
     "name": "stdout",
     "output_type": "stream",
     "text": [
      "1151729 1151730\n"
     ]
    },
    {
     "data": {
      "text/html": [
       "<div>\n",
       "<style scoped>\n",
       "    .dataframe tbody tr th:only-of-type {\n",
       "        vertical-align: middle;\n",
       "    }\n",
       "\n",
       "    .dataframe tbody tr th {\n",
       "        vertical-align: top;\n",
       "    }\n",
       "\n",
       "    .dataframe thead th {\n",
       "        text-align: right;\n",
       "    }\n",
       "</style>\n",
       "<table border=\"1\" class=\"dataframe\">\n",
       "  <thead>\n",
       "    <tr style=\"text-align: right;\">\n",
       "      <th></th>\n",
       "      <th>name</th>\n",
       "      <th>value0</th>\n",
       "      <th>value1</th>\n",
       "    </tr>\n",
       "  </thead>\n",
       "  <tbody>\n",
       "    <tr>\n",
       "      <th>0</th>\n",
       "      <td>units id:</td>\n",
       "      <td>1151729</td>\n",
       "      <td>1151730.0</td>\n",
       "    </tr>\n",
       "    <tr>\n",
       "      <th>1</th>\n",
       "      <td>lessons id:</td>\n",
       "      <td>1140054</td>\n",
       "      <td>1140055.0</td>\n",
       "    </tr>\n",
       "    <tr>\n",
       "      <th>2</th>\n",
       "      <td>module title:</td>\n",
       "      <td>Введение</td>\n",
       "      <td>NaN</td>\n",
       "    </tr>\n",
       "  </tbody>\n",
       "</table>\n",
       "</div>"
      ],
      "text/plain": [
       "            name    value0     value1\n",
       "0      units id:   1151729  1151730.0\n",
       "1    lessons id:   1140054  1140055.0\n",
       "2  module title:  Введение        NaN"
      ]
     },
     "execution_count": 7,
     "metadata": {},
     "output_type": "execute_result"
    }
   ],
   "source": [
    "print(*stepic_module.get_units_from_section('365061'))\n",
    "df = pd.DataFrame([['units id:', *stepic_module.get_units_from_section('365061')],\n",
    "                  ['lessons id:', *stepic_module.get_lessons_from_section('365061')],\n",
    "                  ['module title:', stepic_module.get_module_title('365061'), None]],\n",
    "                  columns = ['name', *['value' + str(i) for i in range(len(stepic_module.get_lessons_from_section('365061')))]])\n",
    "df"
   ]
  },
  {
   "cell_type": "code",
   "execution_count": 8,
   "metadata": {},
   "outputs": [
    {
     "name": "stdout",
     "output_type": "stream",
     "text": [
      "steps_in_lesson: [4728621, 4818292, 4818293, 4818294]\n"
     ]
    }
   ],
   "source": [
    "url = 'https://stepik.org/api/classes/62475'\n",
    "\n",
    "#  Тесты для уроков\n",
    "stepic_lesson = Lesson(token)\n",
    "print(f'steps_in_lesson: {stepic_lesson.get_steps_in_lesson('1140055')}')"
   ]
  },
  {
   "cell_type": "code",
   "execution_count": 9,
   "metadata": {},
   "outputs": [
    {
     "data": {
      "text/html": [
       "<div>\n",
       "<style scoped>\n",
       "    .dataframe tbody tr th:only-of-type {\n",
       "        vertical-align: middle;\n",
       "    }\n",
       "\n",
       "    .dataframe tbody tr th {\n",
       "        vertical-align: top;\n",
       "    }\n",
       "\n",
       "    .dataframe thead th {\n",
       "        text-align: right;\n",
       "    }\n",
       "</style>\n",
       "<table border=\"1\" class=\"dataframe\">\n",
       "  <thead>\n",
       "    <tr style=\"text-align: right;\">\n",
       "      <th></th>\n",
       "      <th>steps_in_lesson</th>\n",
       "    </tr>\n",
       "  </thead>\n",
       "  <tbody>\n",
       "    <tr>\n",
       "      <th>0</th>\n",
       "      <td>4728621</td>\n",
       "    </tr>\n",
       "    <tr>\n",
       "      <th>1</th>\n",
       "      <td>4818292</td>\n",
       "    </tr>\n",
       "    <tr>\n",
       "      <th>2</th>\n",
       "      <td>4818293</td>\n",
       "    </tr>\n",
       "    <tr>\n",
       "      <th>3</th>\n",
       "      <td>4818294</td>\n",
       "    </tr>\n",
       "  </tbody>\n",
       "</table>\n",
       "</div>"
      ],
      "text/plain": [
       "   steps_in_lesson\n",
       "0          4728621\n",
       "1          4818292\n",
       "2          4818293\n",
       "3          4818294"
      ]
     },
     "execution_count": 9,
     "metadata": {},
     "output_type": "execute_result"
    }
   ],
   "source": [
    "df = pd.DataFrame(stepic_lesson.get_steps_in_lesson('1140055'),\n",
    "                  columns = ['steps_in_lesson'])\n",
    "df"
   ]
  },
  {
   "cell_type": "code",
   "execution_count": 10,
   "metadata": {},
   "outputs": [
    {
     "name": "stdout",
     "output_type": "stream",
     "text": [
      "steps_in_lesson: text\n",
      "steps_in_lesson: <h2>Что надо установить</h2>\n",
      "\n",
      "<p>Ничего. Основной курс можно пройти в браузере.</p>\n",
      "\n",
      "<p>Игры - дополнительный материал - удобнее писать в IDE. Обратитесь к этому разделу, когда соберетесь разрабатывать игры.</p>\n"
     ]
    }
   ],
   "source": [
    "url = 'https://stepik.org/api/classes/62475'\n",
    "\n",
    "#  Тесты для шагов\n",
    "stepic_step = Step(token)\n",
    "print(f'steps_in_lesson: {stepic_step.get_name_in_step('4728621')}')\n",
    "print(f'steps_in_lesson: {stepic_step.get_text_in_step('4728621')}')\n"
   ]
  }
 ],
 "metadata": {
  "kernelspec": {
   "display_name": "Python 3",
   "language": "python",
   "name": "python3"
  },
  "language_info": {
   "codemirror_mode": {
    "name": "ipython",
    "version": 3
   },
   "file_extension": ".py",
   "mimetype": "text/x-python",
   "name": "python",
   "nbconvert_exporter": "python",
   "pygments_lexer": "ipython3",
   "version": "3.13.2"
  },
  "orig_nbformat": 4
 },
 "nbformat": 4,
 "nbformat_minor": 2
}
