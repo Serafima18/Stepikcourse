{
 "cells": [
  {
   "cell_type": "code",
   "execution_count": 1,
   "metadata": {},
   "outputs": [],
   "source": [
    "import pandas as pd\n",
    "from classesAPI import *\n",
    "from config import token\n",
    "from pprint import pprint"
   ]
  },
  {
   "cell_type": "code",
   "execution_count": 2,
   "metadata": {},
   "outputs": [
    {
     "data": {
      "text/plain": [
       "{944335224: 'Роман Горин'}"
      ]
     },
     "execution_count": 2,
     "metadata": {},
     "output_type": "execute_result"
    }
   ],
   "source": [
    "user = User(token)\n",
    "\n",
    "user.get_users_info(user_ids=['944335224'])"
   ]
  },
  {
   "cell_type": "code",
   "execution_count": 3,
   "metadata": {},
   "outputs": [
    {
     "name": "stdout",
     "output_type": "stream",
     "text": [
      "{423045693: 'Писецкий Максим',\n",
      " 540290205: 'Матвей Лоивский',\n",
      " 609197016: 'avdotia',\n",
      " 657296889: 'Анастасия Рязанова',\n",
      " 669328191: 'Станислав Богданов',\n",
      " 941539964: 'Виктор Колобанов',\n",
      " 941560677: 'Свистунов Михаил',\n",
      " 942524568: 'User 942524568',\n",
      " 944335224: 'Роман Горин',\n",
      " 959751608: 'Кирилл Колбенев',\n",
      " 960211959: 'Андрей Козлихин',\n",
      " 965899465: 'Воронков Артем'}\n"
     ]
    }
   ],
   "source": [
    "st = Students(token, class_id=62475)\n",
    "\n",
    "students_id = st.get_students()\n",
    "students_names = User(token)\n",
    "pprint(students_names.get_users_info(students_id))"
   ]
  },
  {
   "cell_type": "code",
   "execution_count": 4,
   "metadata": {},
   "outputs": [
    {
     "data": {
      "text/html": [
       "<div>\n",
       "<style scoped>\n",
       "    .dataframe tbody tr th:only-of-type {\n",
       "        vertical-align: middle;\n",
       "    }\n",
       "\n",
       "    .dataframe tbody tr th {\n",
       "        vertical-align: top;\n",
       "    }\n",
       "\n",
       "    .dataframe thead th {\n",
       "        text-align: right;\n",
       "    }\n",
       "</style>\n",
       "<table border=\"1\" class=\"dataframe\">\n",
       "  <thead>\n",
       "    <tr style=\"text-align: right;\">\n",
       "      <th></th>\n",
       "      <th>0</th>\n",
       "    </tr>\n",
       "  </thead>\n",
       "  <tbody>\n",
       "    <tr>\n",
       "      <th>0</th>\n",
       "      <td>941539964</td>\n",
       "    </tr>\n",
       "    <tr>\n",
       "      <th>1</th>\n",
       "      <td>540290205</td>\n",
       "    </tr>\n",
       "    <tr>\n",
       "      <th>2</th>\n",
       "      <td>657296889</td>\n",
       "    </tr>\n",
       "    <tr>\n",
       "      <th>3</th>\n",
       "      <td>669328191</td>\n",
       "    </tr>\n",
       "    <tr>\n",
       "      <th>4</th>\n",
       "      <td>423045693</td>\n",
       "    </tr>\n",
       "    <tr>\n",
       "      <th>5</th>\n",
       "      <td>941560677</td>\n",
       "    </tr>\n",
       "    <tr>\n",
       "      <th>6</th>\n",
       "      <td>959751608</td>\n",
       "    </tr>\n",
       "    <tr>\n",
       "      <th>7</th>\n",
       "      <td>960211959</td>\n",
       "    </tr>\n",
       "    <tr>\n",
       "      <th>8</th>\n",
       "      <td>965899465</td>\n",
       "    </tr>\n",
       "    <tr>\n",
       "      <th>9</th>\n",
       "      <td>944335224</td>\n",
       "    </tr>\n",
       "    <tr>\n",
       "      <th>10</th>\n",
       "      <td>942524568</td>\n",
       "    </tr>\n",
       "    <tr>\n",
       "      <th>11</th>\n",
       "      <td>609197016</td>\n",
       "    </tr>\n",
       "  </tbody>\n",
       "</table>\n",
       "</div>"
      ],
      "text/plain": [
       "            0\n",
       "0   941539964\n",
       "1   540290205\n",
       "2   657296889\n",
       "3   669328191\n",
       "4   423045693\n",
       "5   941560677\n",
       "6   959751608\n",
       "7   960211959\n",
       "8   965899465\n",
       "9   944335224\n",
       "10  942524568\n",
       "11  609197016"
      ]
     },
     "execution_count": 4,
     "metadata": {},
     "output_type": "execute_result"
    }
   ],
   "source": [
    "df = pd.DataFrame(students_id)\n",
    "df"
   ]
  },
  {
   "cell_type": "code",
   "execution_count": 6,
   "metadata": {},
   "outputs": [
    {
     "name": "stdout",
     "output_type": "stream",
     "text": [
      "[{'attempt': 1187302827,\n",
      "  'eta': 0,\n",
      "  'feedback': '',\n",
      "  'hint': '',\n",
      "  'id': 1273917623,\n",
      "  'reply': {'ordering': [3, 5, 2, 4, 1, 0]},\n",
      "  'reply_url': None,\n",
      "  'score': 1.0,\n",
      "  'session': None,\n",
      "  'status': 'correct',\n",
      "  'time': '2024-09-10T18:54:15Z'},\n",
      " {'attempt': 1187302827,\n",
      "  'eta': 0,\n",
      "  'feedback': '',\n",
      "  'hint': '',\n",
      "  'id': 1273916715,\n",
      "  'reply': {'ordering': [3, 5, 2, 4, 0, 1]},\n",
      "  'reply_url': None,\n",
      "  'score': 0.0,\n",
      "  'session': None,\n",
      "  'status': 'wrong',\n",
      "  'time': '2024-09-10T18:52:50Z'}]\n"
     ]
    }
   ],
   "source": [
    "pr = Parcels(token, class_id=62475)\n",
    "pprint(pr.get_parcels(step_id=4777656, student_id=944335224))"
   ]
  }
 ],
 "metadata": {
  "kernelspec": {
   "display_name": "Python 3",
   "language": "python",
   "name": "python3"
  },
  "language_info": {
   "codemirror_mode": {
    "name": "ipython",
    "version": 3
   },
   "file_extension": ".py",
   "mimetype": "text/x-python",
   "name": "python",
   "nbconvert_exporter": "python",
   "pygments_lexer": "ipython3",
   "version": "3.13.2"
  },
  "orig_nbformat": 4
 },
 "nbformat": 4,
 "nbformat_minor": 2
}
